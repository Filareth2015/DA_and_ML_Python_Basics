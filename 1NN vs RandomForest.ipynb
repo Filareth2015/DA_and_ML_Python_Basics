{
 "cells": [
  {
   "cell_type": "code",
   "execution_count": 14,
   "metadata": {
    "collapsed": true
   },
   "outputs": [],
   "source": [
    "from sklearn.datasets import load_digits\n",
    "from sklearn import cross_validation as cv\n",
    "import numpy as np\n",
    "from sklearn.metrics import accuracy_score\n",
    "from sklearn.ensemble import RandomForestClassifier"
   ]
  },
  {
   "cell_type": "code",
   "execution_count": 2,
   "metadata": {
    "collapsed": false
   },
   "outputs": [
    {
     "name": "stderr",
     "output_type": "stream",
     "text": [
      "C:\\Anaconda2\\lib\\site-packages\\ipykernel\\__main__.py:5: DeprecationWarning: using a non-integer number instead of an integer will result in an error in the future\n",
      "C:\\Anaconda2\\lib\\site-packages\\ipykernel\\__main__.py:6: DeprecationWarning: using a non-integer number instead of an integer will result in an error in the future\n",
      "C:\\Anaconda2\\lib\\site-packages\\ipykernel\\__main__.py:7: DeprecationWarning: using a non-integer number instead of an integer will result in an error in the future\n",
      "C:\\Anaconda2\\lib\\site-packages\\ipykernel\\__main__.py:8: DeprecationWarning: using a non-integer number instead of an integer will result in an error in the future\n"
     ]
    }
   ],
   "source": [
    "dig = load_digits()\n",
    "\n",
    "X = dig.data\n",
    "Y = dig.target\n",
    "X_train = X[:X.shape[0]*0.75,:]\n",
    "X_test = X[X.shape[0]*0.75:,:]\n",
    "y_train = Y[:X.shape[0]*0.75]\n",
    "y_test = Y[X.shape[0]*0.75:]"
   ]
  },
  {
   "cell_type": "code",
   "execution_count": 6,
   "metadata": {
    "collapsed": false
   },
   "outputs": [],
   "source": [
    "def one_nn(X_train, y_train, X_test, y_test):\n",
    "    \n",
    "    predicted = []\n",
    "    for t in X_test:\n",
    "        min_dist = 1000000000.0\n",
    "        label = int(0)\n",
    "        for i in range(X_train.shape[0]):\n",
    "            distance = euclid_metric(t, X_train[i])\n",
    "            if distance < min_dist:\n",
    "                min_dist = distance\n",
    "                label = int(y_train[i])\n",
    "                \n",
    "        predicted.append(label)\n",
    "        \n",
    "    print predicted[:10]\n",
    "    return accuracy_score(y_test, predicted)"
   ]
  },
  {
   "cell_type": "code",
   "execution_count": 7,
   "metadata": {
    "collapsed": true
   },
   "outputs": [],
   "source": [
    "def write_to_file(value, name):\n",
    "    with open(name, 'w') as f:\n",
    "        f.write(value)"
   ]
  },
  {
   "cell_type": "code",
   "execution_count": 8,
   "metadata": {
    "collapsed": true
   },
   "outputs": [],
   "source": [
    "def one_nn_sort(X_train, y_train, X_test, y_test):\n",
    "    pairs = []\n",
    "    for t in X_test:\n",
    "        pair = []\n",
    "        for (x, y) in zip(X_train, y_train):\n",
    "            distance = euclid_metric(t, x)\n",
    "            pair.append((distance, y))\n",
    "        print sorted(pair)[:3]"
   ]
  },
  {
   "cell_type": "code",
   "execution_count": 9,
   "metadata": {
    "collapsed": true
   },
   "outputs": [],
   "source": [
    "def euclid_metric(x1, x2):\n",
    "    return np.sum((x1-x2)**2)"
   ]
  },
  {
   "cell_type": "code",
   "execution_count": 12,
   "metadata": {
    "collapsed": false
   },
   "outputs": [
    {
     "name": "stdout",
     "output_type": "stream",
     "text": [
      "[3, 7, 3, 3, 4, 6, 6, 6, 4, 9]\n",
      "0.962222222222\n",
      "Wall time: 4.86 s\n"
     ]
    }
   ],
   "source": [
    "%%time\n",
    "score = one_nn(X_train, y_train, X_test, y_test)\n",
    "print score"
   ]
  },
  {
   "cell_type": "code",
   "execution_count": 13,
   "metadata": {
    "collapsed": true
   },
   "outputs": [],
   "source": [
    "write_to_file(str(1-score), \"1nn_errors.txt\")"
   ]
  },
  {
   "cell_type": "code",
   "execution_count": null,
   "metadata": {
    "collapsed": true
   },
   "outputs": [],
   "source": []
  },
  {
   "cell_type": "code",
   "execution_count": 15,
   "metadata": {
    "collapsed": false
   },
   "outputs": [
    {
     "name": "stdout",
     "output_type": "stream",
     "text": [
      "0.935555555556\n"
     ]
    }
   ],
   "source": [
    "classifier = RandomForestClassifier(n_estimators=1000)\n",
    "classifier.fit(X_train, y_train)\n",
    "pred = classifier.predict(X_test)\n",
    "rm_score = accuracy_score(y_test, pred)\n",
    "print rm_score"
   ]
  },
  {
   "cell_type": "code",
   "execution_count": 16,
   "metadata": {
    "collapsed": true
   },
   "outputs": [],
   "source": [
    "write_to_file(str(1-rm_score), \"rf_errors.txt\")"
   ]
  },
  {
   "cell_type": "code",
   "execution_count": null,
   "metadata": {
    "collapsed": true
   },
   "outputs": [],
   "source": []
  }
 ],
 "metadata": {
  "kernelspec": {
   "display_name": "Python 2",
   "language": "python",
   "name": "python2"
  },
  "language_info": {
   "codemirror_mode": {
    "name": "ipython",
    "version": 2
   },
   "file_extension": ".py",
   "mimetype": "text/x-python",
   "name": "python",
   "nbconvert_exporter": "python",
   "pygments_lexer": "ipython2",
   "version": "2.7.12"
  }
 },
 "nbformat": 4,
 "nbformat_minor": 0
}
