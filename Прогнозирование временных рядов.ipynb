{
 "cells": [
  {
   "cell_type": "markdown",
   "metadata": {},
   "source": [
    "В приложенном файле — данные по ежемесячному уровню производства молока в фунтах на одну корову.\n",
    "Загрузите ряд, создайте новый ряд значений среднего дневного уровня производства молока в фунтах на одну корову, поделив на число дней в месяце (вычисляется с помощью функции monthrange из пакета calendar). Постройте график полученного ряда; какой из приведённых ниже графиков у вас получился?"
   ]
  },
  {
   "cell_type": "code",
   "execution_count": 1,
   "metadata": {
    "collapsed": false
   },
   "outputs": [
    {
     "name": "stdout",
     "output_type": "stream",
     "text": [
      "Populating the interactive namespace from numpy and matplotlib\n"
     ]
    }
   ],
   "source": [
    "%pylab inline\n",
    "import pandas as pd\n",
    "from scipy import stats\n",
    "import statsmodels.api as sm\n",
    "import matplotlib.pyplot as plt"
   ]
  },
  {
   "cell_type": "code",
   "execution_count": 2,
   "metadata": {
    "collapsed": true
   },
   "outputs": [],
   "source": [
    "import calendar"
   ]
  },
  {
   "cell_type": "code",
   "execution_count": 20,
   "metadata": {
    "collapsed": true
   },
   "outputs": [],
   "source": [
    "cows = pd.read_csv('monthly-milk-production.csv', sep = ';', parse_dates=['month'], dayfirst=True)"
   ]
  },
  {
   "cell_type": "code",
   "execution_count": 21,
   "metadata": {
    "collapsed": false
   },
   "outputs": [
    {
     "data": {
      "text/html": [
       "<div>\n",
       "<table border=\"1\" class=\"dataframe\">\n",
       "  <thead>\n",
       "    <tr style=\"text-align: right;\">\n",
       "      <th></th>\n",
       "      <th>month</th>\n",
       "      <th>milk</th>\n",
       "    </tr>\n",
       "  </thead>\n",
       "  <tbody>\n",
       "    <tr>\n",
       "      <th>0</th>\n",
       "      <td>1962-01-01</td>\n",
       "      <td>589</td>\n",
       "    </tr>\n",
       "    <tr>\n",
       "      <th>1</th>\n",
       "      <td>1962-02-01</td>\n",
       "      <td>561</td>\n",
       "    </tr>\n",
       "    <tr>\n",
       "      <th>2</th>\n",
       "      <td>1962-03-01</td>\n",
       "      <td>640</td>\n",
       "    </tr>\n",
       "    <tr>\n",
       "      <th>3</th>\n",
       "      <td>1962-04-01</td>\n",
       "      <td>656</td>\n",
       "    </tr>\n",
       "    <tr>\n",
       "      <th>4</th>\n",
       "      <td>1962-05-01</td>\n",
       "      <td>727</td>\n",
       "    </tr>\n",
       "    <tr>\n",
       "      <th>5</th>\n",
       "      <td>1962-06-01</td>\n",
       "      <td>697</td>\n",
       "    </tr>\n",
       "    <tr>\n",
       "      <th>6</th>\n",
       "      <td>1962-07-01</td>\n",
       "      <td>640</td>\n",
       "    </tr>\n",
       "    <tr>\n",
       "      <th>7</th>\n",
       "      <td>1962-08-01</td>\n",
       "      <td>599</td>\n",
       "    </tr>\n",
       "    <tr>\n",
       "      <th>8</th>\n",
       "      <td>1962-09-01</td>\n",
       "      <td>568</td>\n",
       "    </tr>\n",
       "    <tr>\n",
       "      <th>9</th>\n",
       "      <td>1962-10-01</td>\n",
       "      <td>577</td>\n",
       "    </tr>\n",
       "    <tr>\n",
       "      <th>10</th>\n",
       "      <td>1962-11-01</td>\n",
       "      <td>553</td>\n",
       "    </tr>\n",
       "    <tr>\n",
       "      <th>11</th>\n",
       "      <td>1962-12-01</td>\n",
       "      <td>582</td>\n",
       "    </tr>\n",
       "    <tr>\n",
       "      <th>12</th>\n",
       "      <td>1963-01-01</td>\n",
       "      <td>600</td>\n",
       "    </tr>\n",
       "    <tr>\n",
       "      <th>13</th>\n",
       "      <td>1963-02-01</td>\n",
       "      <td>566</td>\n",
       "    </tr>\n",
       "    <tr>\n",
       "      <th>14</th>\n",
       "      <td>1963-03-01</td>\n",
       "      <td>653</td>\n",
       "    </tr>\n",
       "    <tr>\n",
       "      <th>15</th>\n",
       "      <td>1963-04-01</td>\n",
       "      <td>673</td>\n",
       "    </tr>\n",
       "    <tr>\n",
       "      <th>16</th>\n",
       "      <td>1963-05-01</td>\n",
       "      <td>742</td>\n",
       "    </tr>\n",
       "    <tr>\n",
       "      <th>17</th>\n",
       "      <td>1963-06-01</td>\n",
       "      <td>716</td>\n",
       "    </tr>\n",
       "    <tr>\n",
       "      <th>18</th>\n",
       "      <td>1963-07-01</td>\n",
       "      <td>660</td>\n",
       "    </tr>\n",
       "    <tr>\n",
       "      <th>19</th>\n",
       "      <td>1963-08-01</td>\n",
       "      <td>617</td>\n",
       "    </tr>\n",
       "  </tbody>\n",
       "</table>\n",
       "</div>"
      ],
      "text/plain": [
       "        month  milk\n",
       "0  1962-01-01   589\n",
       "1  1962-02-01   561\n",
       "2  1962-03-01   640\n",
       "3  1962-04-01   656\n",
       "4  1962-05-01   727\n",
       "5  1962-06-01   697\n",
       "6  1962-07-01   640\n",
       "7  1962-08-01   599\n",
       "8  1962-09-01   568\n",
       "9  1962-10-01   577\n",
       "10 1962-11-01   553\n",
       "11 1962-12-01   582\n",
       "12 1963-01-01   600\n",
       "13 1963-02-01   566\n",
       "14 1963-03-01   653\n",
       "15 1963-04-01   673\n",
       "16 1963-05-01   742\n",
       "17 1963-06-01   716\n",
       "18 1963-07-01   660\n",
       "19 1963-08-01   617"
      ]
     },
     "execution_count": 21,
     "metadata": {},
     "output_type": "execute_result"
    }
   ],
   "source": [
    "cows.head(20)"
   ]
  },
  {
   "cell_type": "code",
   "execution_count": 22,
   "metadata": {
    "collapsed": false
   },
   "outputs": [
    {
     "name": "stdout",
     "output_type": "stream",
     "text": [
      "<class 'pandas.core.frame.DataFrame'>\n",
      "RangeIndex: 168 entries, 0 to 167\n",
      "Data columns (total 2 columns):\n",
      "month    168 non-null datetime64[ns]\n",
      "milk     168 non-null int64\n",
      "dtypes: datetime64[ns](1), int64(1)\n",
      "memory usage: 2.7 KB\n"
     ]
    }
   ],
   "source": [
    "cows.info()"
   ]
  },
  {
   "cell_type": "code",
   "execution_count": 24,
   "metadata": {
    "collapsed": false
   },
   "outputs": [
    {
     "data": {
      "text/plain": [
       "<matplotlib.text.Text at 0xc155b38>"
      ]
     },
     "execution_count": 24,
     "metadata": {},
     "output_type": "execute_result"
    },
    {
     "data": {
      "image/png": "[encoded data removed]",
      "text/plain": [
       "<matplotlib.figure.Figure at 0xc152470>"
      ]
     },
     "metadata": {},
     "output_type": "display_data"
    }
   ],
   "source": [
    "plt.figure(figsize(15,7))\n",
    "plt.plot(cows.month, cows.milk, label = 'Milk')\n",
    "plt.ylabel('Milk')\n",
    "#plt.xlim('1962-01-01', '1963-05-01')"
   ]
  },
  {
   "cell_type": "code",
   "execution_count": 26,
   "metadata": {
    "collapsed": true
   },
   "outputs": [],
   "source": [
    "cows.columns = ['date', 'milk']"
   ]
  },
  {
   "cell_type": "code",
   "execution_count": 27,
   "metadata": {
    "collapsed": false
   },
   "outputs": [],
   "source": [
    "cows['year'] = cows.date.apply(lambda x : x.year)\n",
    "cows['month'] = cows.date.apply(lambda x : x.month)"
   ]
  },
  {
   "cell_type": "code",
   "execution_count": 28,
   "metadata": {
    "collapsed": false
   },
   "outputs": [
    {
     "data": {
      "text/html": [
       "<div>\n",
       "<table border=\"1\" class=\"dataframe\">\n",
       "  <thead>\n",
       "    <tr style=\"text-align: right;\">\n",
       "      <th></th>\n",
       "      <th>date</th>\n",
       "      <th>milk</th>\n",
       "      <th>year</th>\n",
       "      <th>month</th>\n",
       "    </tr>\n",
       "  </thead>\n",
       "  <tbody>\n",
       "    <tr>\n",
       "      <th>0</th>\n",
       "      <td>1962-01-01</td>\n",
       "      <td>589</td>\n",
       "      <td>1962</td>\n",
       "      <td>1</td>\n",
       "    </tr>\n",
       "    <tr>\n",
       "      <th>1</th>\n",
       "      <td>1962-02-01</td>\n",
       "      <td>561</td>\n",
       "      <td>1962</td>\n",
       "      <td>2</td>\n",
       "    </tr>\n",
       "    <tr>\n",
       "      <th>2</th>\n",
       "      <td>1962-03-01</td>\n",
       "      <td>640</td>\n",
       "      <td>1962</td>\n",
       "      <td>3</td>\n",
       "    </tr>\n",
       "    <tr>\n",
       "      <th>3</th>\n",
       "      <td>1962-04-01</td>\n",
       "      <td>656</td>\n",
       "      <td>1962</td>\n",
       "      <td>4</td>\n",
       "    </tr>\n",
       "    <tr>\n",
       "      <th>4</th>\n",
       "      <td>1962-05-01</td>\n",
       "      <td>727</td>\n",
       "      <td>1962</td>\n",
       "      <td>5</td>\n",
       "    </tr>\n",
       "    <tr>\n",
       "      <th>5</th>\n",
       "      <td>1962-06-01</td>\n",
       "      <td>697</td>\n",
       "      <td>1962</td>\n",
       "      <td>6</td>\n",
       "    </tr>\n",
       "    <tr>\n",
       "      <th>6</th>\n",
       "      <td>1962-07-01</td>\n",
       "      <td>640</td>\n",
       "      <td>1962</td>\n",
       "      <td>7</td>\n",
       "    </tr>\n",
       "    <tr>\n",
       "      <th>7</th>\n",
       "      <td>1962-08-01</td>\n",
       "      <td>599</td>\n",
       "      <td>1962</td>\n",
       "      <td>8</td>\n",
       "    </tr>\n",
       "    <tr>\n",
       "      <th>8</th>\n",
       "      <td>1962-09-01</td>\n",
       "      <td>568</td>\n",
       "      <td>1962</td>\n",
       "      <td>9</td>\n",
       "    </tr>\n",
       "    <tr>\n",
       "      <th>9</th>\n",
       "      <td>1962-10-01</td>\n",
       "      <td>577</td>\n",
       "      <td>1962</td>\n",
       "      <td>10</td>\n",
       "    </tr>\n",
       "    <tr>\n",
       "      <th>10</th>\n",
       "      <td>1962-11-01</td>\n",
       "      <td>553</td>\n",
       "      <td>1962</td>\n",
       "      <td>11</td>\n",
       "    </tr>\n",
       "    <tr>\n",
       "      <th>11</th>\n",
       "      <td>1962-12-01</td>\n",
       "      <td>582</td>\n",
       "      <td>1962</td>\n",
       "      <td>12</td>\n",
       "    </tr>\n",
       "    <tr>\n",
       "      <th>12</th>\n",
       "      <td>1963-01-01</td>\n",
       "      <td>600</td>\n",
       "      <td>1963</td>\n",
       "      <td>1</td>\n",
       "    </tr>\n",
       "    <tr>\n",
       "      <th>13</th>\n",
       "      <td>1963-02-01</td>\n",
       "      <td>566</td>\n",
       "      <td>1963</td>\n",
       "      <td>2</td>\n",
       "    </tr>\n",
       "    <tr>\n",
       "      <th>14</th>\n",
       "      <td>1963-03-01</td>\n",
       "      <td>653</td>\n",
       "      <td>1963</td>\n",
       "      <td>3</td>\n",
       "    </tr>\n",
       "    <tr>\n",
       "      <th>15</th>\n",
       "      <td>1963-04-01</td>\n",
       "      <td>673</td>\n",
       "      <td>1963</td>\n",
       "      <td>4</td>\n",
       "    </tr>\n",
       "    <tr>\n",
       "      <th>16</th>\n",
       "      <td>1963-05-01</td>\n",
       "      <td>742</td>\n",
       "      <td>1963</td>\n",
       "      <td>5</td>\n",
       "    </tr>\n",
       "    <tr>\n",
       "      <th>17</th>\n",
       "      <td>1963-06-01</td>\n",
       "      <td>716</td>\n",
       "      <td>1963</td>\n",
       "      <td>6</td>\n",
       "    </tr>\n",
       "    <tr>\n",
       "      <th>18</th>\n",
       "      <td>1963-07-01</td>\n",
       "      <td>660</td>\n",
       "      <td>1963</td>\n",
       "      <td>7</td>\n",
       "    </tr>\n",
       "    <tr>\n",
       "      <th>19</th>\n",
       "      <td>1963-08-01</td>\n",
       "      <td>617</td>\n",
       "      <td>1963</td>\n",
       "      <td>8</td>\n",
       "    </tr>\n",
       "  </tbody>\n",
       "</table>\n",
       "</div>"
      ],
      "text/plain": [
       "         date  milk  year  month\n",
       "0  1962-01-01   589  1962      1\n",
       "1  1962-02-01   561  1962      2\n",
       "2  1962-03-01   640  1962      3\n",
       "3  1962-04-01   656  1962      4\n",
       "4  1962-05-01   727  1962      5\n",
       "5  1962-06-01   697  1962      6\n",
       "6  1962-07-01   640  1962      7\n",
       "7  1962-08-01   599  1962      8\n",
       "8  1962-09-01   568  1962      9\n",
       "9  1962-10-01   577  1962     10\n",
       "10 1962-11-01   553  1962     11\n",
       "11 1962-12-01   582  1962     12\n",
       "12 1963-01-01   600  1963      1\n",
       "13 1963-02-01   566  1963      2\n",
       "14 1963-03-01   653  1963      3\n",
       "15 1963-04-01   673  1963      4\n",
       "16 1963-05-01   742  1963      5\n",
       "17 1963-06-01   716  1963      6\n",
       "18 1963-07-01   660  1963      7\n",
       "19 1963-08-01   617  1963      8"
      ]
     },
     "execution_count": 28,
     "metadata": {},
     "output_type": "execute_result"
    }
   ],
   "source": [
    "cows.head(20)"
   ]
  },
  {
   "cell_type": "code",
   "execution_count": 51,
   "metadata": {
    "collapsed": true
   },
   "outputs": [],
   "source": [
    "cows['meanDayMilk'] = 0.0"
   ]
  },
  {
   "cell_type": "code",
   "execution_count": 52,
   "metadata": {
    "collapsed": false
   },
   "outputs": [],
   "source": [
    "for i in range(len(cows)):\n",
    "    cows.meanDayMilk.values[i] = float(cows.milk.values[i]) / float(calendar.monthrange(cows.year.values[i], cows.month.values[i])[1])"
   ]
  },
  {
   "cell_type": "code",
   "execution_count": 53,
   "metadata": {
    "collapsed": false
   },
   "outputs": [
    {
     "data": {
      "text/html": [
       "<div>\n",
       "<table border=\"1\" class=\"dataframe\">\n",
       "  <thead>\n",
       "    <tr style=\"text-align: right;\">\n",
       "      <th></th>\n",
       "      <th>date</th>\n",
       "      <th>milk</th>\n",
       "      <th>year</th>\n",
       "      <th>month</th>\n",
       "      <th>meanDayMilk</th>\n",
       "    </tr>\n",
       "  </thead>\n",
       "  <tbody>\n",
       "    <tr>\n",
       "      <th>0</th>\n",
       "      <td>1962-01-01</td>\n",
       "      <td>589</td>\n",
       "      <td>1962</td>\n",
       "      <td>1</td>\n",
       "      <td>19.000000</td>\n",
       "    </tr>\n",
       "    <tr>\n",
       "      <th>1</th>\n",
       "      <td>1962-02-01</td>\n",
       "      <td>561</td>\n",
       "      <td>1962</td>\n",
       "      <td>2</td>\n",
       "      <td>20.035714</td>\n",
       "    </tr>\n",
       "    <tr>\n",
       "      <th>2</th>\n",
       "      <td>1962-03-01</td>\n",
       "      <td>640</td>\n",
       "      <td>1962</td>\n",
       "      <td>3</td>\n",
       "      <td>20.645161</td>\n",
       "    </tr>\n",
       "    <tr>\n",
       "      <th>3</th>\n",
       "      <td>1962-04-01</td>\n",
       "      <td>656</td>\n",
       "      <td>1962</td>\n",
       "      <td>4</td>\n",
       "      <td>21.866667</td>\n",
       "    </tr>\n",
       "    <tr>\n",
       "      <th>4</th>\n",
       "      <td>1962-05-01</td>\n",
       "      <td>727</td>\n",
       "      <td>1962</td>\n",
       "      <td>5</td>\n",
       "      <td>23.451613</td>\n",
       "    </tr>\n",
       "    <tr>\n",
       "      <th>5</th>\n",
       "      <td>1962-06-01</td>\n",
       "      <td>697</td>\n",
       "      <td>1962</td>\n",
       "      <td>6</td>\n",
       "      <td>23.233333</td>\n",
       "    </tr>\n",
       "    <tr>\n",
       "      <th>6</th>\n",
       "      <td>1962-07-01</td>\n",
       "      <td>640</td>\n",
       "      <td>1962</td>\n",
       "      <td>7</td>\n",
       "      <td>20.645161</td>\n",
       "    </tr>\n",
       "    <tr>\n",
       "      <th>7</th>\n",
       "      <td>1962-08-01</td>\n",
       "      <td>599</td>\n",
       "      <td>1962</td>\n",
       "      <td>8</td>\n",
       "      <td>19.322581</td>\n",
       "    </tr>\n",
       "    <tr>\n",
       "      <th>8</th>\n",
       "      <td>1962-09-01</td>\n",
       "      <td>568</td>\n",
       "      <td>1962</td>\n",
       "      <td>9</td>\n",
       "      <td>18.933333</td>\n",
       "    </tr>\n",
       "    <tr>\n",
       "      <th>9</th>\n",
       "      <td>1962-10-01</td>\n",
       "      <td>577</td>\n",
       "      <td>1962</td>\n",
       "      <td>10</td>\n",
       "      <td>18.612903</td>\n",
       "    </tr>\n",
       "    <tr>\n",
       "      <th>10</th>\n",
       "      <td>1962-11-01</td>\n",
       "      <td>553</td>\n",
       "      <td>1962</td>\n",
       "      <td>11</td>\n",
       "      <td>18.433333</td>\n",
       "    </tr>\n",
       "    <tr>\n",
       "      <th>11</th>\n",
       "      <td>1962-12-01</td>\n",
       "      <td>582</td>\n",
       "      <td>1962</td>\n",
       "      <td>12</td>\n",
       "      <td>18.774194</td>\n",
       "    </tr>\n",
       "    <tr>\n",
       "      <th>12</th>\n",
       "      <td>1963-01-01</td>\n",
       "      <td>600</td>\n",
       "      <td>1963</td>\n",
       "      <td>1</td>\n",
       "      <td>19.354839</td>\n",
       "    </tr>\n",
       "    <tr>\n",
       "      <th>13</th>\n",
       "      <td>1963-02-01</td>\n",
       "      <td>566</td>\n",
       "      <td>1963</td>\n",
       "      <td>2</td>\n",
       "      <td>20.214286</td>\n",
       "    </tr>\n",
       "    <tr>\n",
       "      <th>14</th>\n",
       "      <td>1963-03-01</td>\n",
       "      <td>653</td>\n",
       "      <td>1963</td>\n",
       "      <td>3</td>\n",
       "      <td>21.064516</td>\n",
       "    </tr>\n",
       "    <tr>\n",
       "      <th>15</th>\n",
       "      <td>1963-04-01</td>\n",
       "      <td>673</td>\n",
       "      <td>1963</td>\n",
       "      <td>4</td>\n",
       "      <td>22.433333</td>\n",
       "    </tr>\n",
       "    <tr>\n",
       "      <th>16</th>\n",
       "      <td>1963-05-01</td>\n",
       "      <td>742</td>\n",
       "      <td>1963</td>\n",
       "      <td>5</td>\n",
       "      <td>23.935484</td>\n",
       "    </tr>\n",
       "    <tr>\n",
       "      <th>17</th>\n",
       "      <td>1963-06-01</td>\n",
       "      <td>716</td>\n",
       "      <td>1963</td>\n",
       "      <td>6</td>\n",
       "      <td>23.866667</td>\n",
       "    </tr>\n",
       "    <tr>\n",
       "      <th>18</th>\n",
       "      <td>1963-07-01</td>\n",
       "      <td>660</td>\n",
       "      <td>1963</td>\n",
       "      <td>7</td>\n",
       "      <td>21.290323</td>\n",
       "    </tr>\n",
       "    <tr>\n",
       "      <th>19</th>\n",
       "      <td>1963-08-01</td>\n",
       "      <td>617</td>\n",
       "      <td>1963</td>\n",
       "      <td>8</td>\n",
       "      <td>19.903226</td>\n",
       "    </tr>\n",
       "  </tbody>\n",
       "</table>\n",
       "</div>"
      ],
      "text/plain": [
       "         date  milk  year  month  meanDayMilk\n",
       "0  1962-01-01   589  1962      1    19.000000\n",
       "1  1962-02-01   561  1962      2    20.035714\n",
       "2  1962-03-01   640  1962      3    20.645161\n",
       "3  1962-04-01   656  1962      4    21.866667\n",
       "4  1962-05-01   727  1962      5    23.451613\n",
       "5  1962-06-01   697  1962      6    23.233333\n",
       "6  1962-07-01   640  1962      7    20.645161\n",
       "7  1962-08-01   599  1962      8    19.322581\n",
       "8  1962-09-01   568  1962      9    18.933333\n",
       "9  1962-10-01   577  1962     10    18.612903\n",
       "10 1962-11-01   553  1962     11    18.433333\n",
       "11 1962-12-01   582  1962     12    18.774194\n",
       "12 1963-01-01   600  1963      1    19.354839\n",
       "13 1963-02-01   566  1963      2    20.214286\n",
       "14 1963-03-01   653  1963      3    21.064516\n",
       "15 1963-04-01   673  1963      4    22.433333\n",
       "16 1963-05-01   742  1963      5    23.935484\n",
       "17 1963-06-01   716  1963      6    23.866667\n",
       "18 1963-07-01   660  1963      7    21.290323\n",
       "19 1963-08-01   617  1963      8    19.903226"
      ]
     },
     "execution_count": 53,
     "metadata": {},
     "output_type": "execute_result"
    }
   ],
   "source": [
    "cows.head(20)"
   ]
  },
  {
   "cell_type": "code",
   "execution_count": null,
   "metadata": {
    "collapsed": true
   },
   "outputs": [],
   "source": []
  },
  {
   "cell_type": "code",
   "execution_count": 54,
   "metadata": {
    "collapsed": false
   },
   "outputs": [
    {
     "data": {
      "text/plain": [
       "<matplotlib.text.Text at 0xd3cc908>"
      ]
     },
     "execution_count": 54,
     "metadata": {},
     "output_type": "execute_result"
    },
    {
     "data": {
      "image/png": "[encoded data removed]",
      "text/plain": [
       "<matplotlib.figure.Figure at 0xb73e358>"
      ]
     },
     "metadata": {},
     "output_type": "display_data"
    }
   ],
   "source": [
    "plt.figure(figsize(15,7))\n",
    "plt.plot(cows.date, cows.meanDayMilk, label='Milk')\n",
    "plt.ylabel('Milk')\n",
    "#plt.xlim('1962-01-01', '1964-05-01')"
   ]
  },
  {
   "cell_type": "code",
   "execution_count": 55,
   "metadata": {
    "collapsed": false
   },
   "outputs": [
    {
     "data": {
      "text/plain": [
       "<matplotlib.text.Text at 0xd524908>"
      ]
     },
     "execution_count": 55,
     "metadata": {},
     "output_type": "execute_result"
    },
    {
     "data": {
      "image/png": "[encoded data removed]",
      "text/plain": [
       "<matplotlib.figure.Figure at 0xd47bc88>"
      ]
     },
     "metadata": {},
     "output_type": "display_data"
    }
   ],
   "source": [
    "plt.figure(figsize(15,7))\n",
    "cows.meanDayMilk.plot()\n",
    "plt.ylabel('meanDayMilk')"
   ]
  },
  {
   "cell_type": "code",
   "execution_count": null,
   "metadata": {
    "collapsed": true
   },
   "outputs": [],
   "source": []
  },
  {
   "cell_type": "markdown",
   "metadata": {},
   "source": [
    "Для ряда со средним дневным количеством молока на корову из предыдущего вопроса давайте с помощью критерий Дики-Фуллера подберём порядок дифференцирования, при котором ряд становится стационарным."
   ]
  },
  {
   "cell_type": "code",
   "execution_count": 58,
   "metadata": {
    "collapsed": false
   },
   "outputs": [
    {
     "name": "stdout",
     "output_type": "stream",
     "text": [
      "Критерий Дики-Фуллера: p=0.682215\n"
     ]
    }
   ],
   "source": [
    "print \"Критерий Дики-Фуллера: p=%f\" % sm.tsa.stattools.adfuller(cows.meanDayMilk)[1]"
   ]
  },
  {
   "cell_type": "code",
   "execution_count": 61,
   "metadata": {
    "collapsed": true
   },
   "outputs": [],
   "source": [
    "cows['daily_diff12'] = cows.meanDayMilk - cows.meanDayMilk.shift(12)"
   ]
  },
  {
   "cell_type": "code",
   "execution_count": 63,
   "metadata": {
    "collapsed": false
   },
   "outputs": [
    {
     "data": {
      "text/html": [
       "<div>\n",
       "<table border=\"1\" class=\"dataframe\">\n",
       "  <thead>\n",
       "    <tr style=\"text-align: right;\">\n",
       "      <th></th>\n",
       "      <th>date</th>\n",
       "      <th>milk</th>\n",
       "      <th>year</th>\n",
       "      <th>month</th>\n",
       "      <th>meanDayMilk</th>\n",
       "      <th>daily_diff12</th>\n",
       "    </tr>\n",
       "  </thead>\n",
       "  <tbody>\n",
       "    <tr>\n",
       "      <th>0</th>\n",
       "      <td>1962-01-01</td>\n",
       "      <td>589</td>\n",
       "      <td>1962</td>\n",
       "      <td>1</td>\n",
       "      <td>19.000000</td>\n",
       "      <td>NaN</td>\n",
       "    </tr>\n",
       "    <tr>\n",
       "      <th>1</th>\n",
       "      <td>1962-02-01</td>\n",
       "      <td>561</td>\n",
       "      <td>1962</td>\n",
       "      <td>2</td>\n",
       "      <td>20.035714</td>\n",
       "      <td>NaN</td>\n",
       "    </tr>\n",
       "    <tr>\n",
       "      <th>2</th>\n",
       "      <td>1962-03-01</td>\n",
       "      <td>640</td>\n",
       "      <td>1962</td>\n",
       "      <td>3</td>\n",
       "      <td>20.645161</td>\n",
       "      <td>NaN</td>\n",
       "    </tr>\n",
       "    <tr>\n",
       "      <th>3</th>\n",
       "      <td>1962-04-01</td>\n",
       "      <td>656</td>\n",
       "      <td>1962</td>\n",
       "      <td>4</td>\n",
       "      <td>21.866667</td>\n",
       "      <td>NaN</td>\n",
       "    </tr>\n",
       "    <tr>\n",
       "      <th>4</th>\n",
       "      <td>1962-05-01</td>\n",
       "      <td>727</td>\n",
       "      <td>1962</td>\n",
       "      <td>5</td>\n",
       "      <td>23.451613</td>\n",
       "      <td>NaN</td>\n",
       "    </tr>\n",
       "    <tr>\n",
       "      <th>5</th>\n",
       "      <td>1962-06-01</td>\n",
       "      <td>697</td>\n",
       "      <td>1962</td>\n",
       "      <td>6</td>\n",
       "      <td>23.233333</td>\n",
       "      <td>NaN</td>\n",
       "    </tr>\n",
       "    <tr>\n",
       "      <th>6</th>\n",
       "      <td>1962-07-01</td>\n",
       "      <td>640</td>\n",
       "      <td>1962</td>\n",
       "      <td>7</td>\n",
       "      <td>20.645161</td>\n",
       "      <td>NaN</td>\n",
       "    </tr>\n",
       "    <tr>\n",
       "      <th>7</th>\n",
       "      <td>1962-08-01</td>\n",
       "      <td>599</td>\n",
       "      <td>1962</td>\n",
       "      <td>8</td>\n",
       "      <td>19.322581</td>\n",
       "      <td>NaN</td>\n",
       "    </tr>\n",
       "    <tr>\n",
       "      <th>8</th>\n",
       "      <td>1962-09-01</td>\n",
       "      <td>568</td>\n",
       "      <td>1962</td>\n",
       "      <td>9</td>\n",
       "      <td>18.933333</td>\n",
       "      <td>NaN</td>\n",
       "    </tr>\n",
       "    <tr>\n",
       "      <th>9</th>\n",
       "      <td>1962-10-01</td>\n",
       "      <td>577</td>\n",
       "      <td>1962</td>\n",
       "      <td>10</td>\n",
       "      <td>18.612903</td>\n",
       "      <td>NaN</td>\n",
       "    </tr>\n",
       "    <tr>\n",
       "      <th>10</th>\n",
       "      <td>1962-11-01</td>\n",
       "      <td>553</td>\n",
       "      <td>1962</td>\n",
       "      <td>11</td>\n",
       "      <td>18.433333</td>\n",
       "      <td>NaN</td>\n",
       "    </tr>\n",
       "    <tr>\n",
       "      <th>11</th>\n",
       "      <td>1962-12-01</td>\n",
       "      <td>582</td>\n",
       "      <td>1962</td>\n",
       "      <td>12</td>\n",
       "      <td>18.774194</td>\n",
       "      <td>NaN</td>\n",
       "    </tr>\n",
       "    <tr>\n",
       "      <th>12</th>\n",
       "      <td>1963-01-01</td>\n",
       "      <td>600</td>\n",
       "      <td>1963</td>\n",
       "      <td>1</td>\n",
       "      <td>19.354839</td>\n",
       "      <td>0.354839</td>\n",
       "    </tr>\n",
       "    <tr>\n",
       "      <th>13</th>\n",
       "      <td>1963-02-01</td>\n",
       "      <td>566</td>\n",
       "      <td>1963</td>\n",
       "      <td>2</td>\n",
       "      <td>20.214286</td>\n",
       "      <td>0.178571</td>\n",
       "    </tr>\n",
       "    <tr>\n",
       "      <th>14</th>\n",
       "      <td>1963-03-01</td>\n",
       "      <td>653</td>\n",
       "      <td>1963</td>\n",
       "      <td>3</td>\n",
       "      <td>21.064516</td>\n",
       "      <td>0.419355</td>\n",
       "    </tr>\n",
       "    <tr>\n",
       "      <th>15</th>\n",
       "      <td>1963-04-01</td>\n",
       "      <td>673</td>\n",
       "      <td>1963</td>\n",
       "      <td>4</td>\n",
       "      <td>22.433333</td>\n",
       "      <td>0.566667</td>\n",
       "    </tr>\n",
       "    <tr>\n",
       "      <th>16</th>\n",
       "      <td>1963-05-01</td>\n",
       "      <td>742</td>\n",
       "      <td>1963</td>\n",
       "      <td>5</td>\n",
       "      <td>23.935484</td>\n",
       "      <td>0.483871</td>\n",
       "    </tr>\n",
       "    <tr>\n",
       "      <th>17</th>\n",
       "      <td>1963-06-01</td>\n",
       "      <td>716</td>\n",
       "      <td>1963</td>\n",
       "      <td>6</td>\n",
       "      <td>23.866667</td>\n",
       "      <td>0.633333</td>\n",
       "    </tr>\n",
       "    <tr>\n",
       "      <th>18</th>\n",
       "      <td>1963-07-01</td>\n",
       "      <td>660</td>\n",
       "      <td>1963</td>\n",
       "      <td>7</td>\n",
       "      <td>21.290323</td>\n",
       "      <td>0.645161</td>\n",
       "    </tr>\n",
       "    <tr>\n",
       "      <th>19</th>\n",
       "      <td>1963-08-01</td>\n",
       "      <td>617</td>\n",
       "      <td>1963</td>\n",
       "      <td>8</td>\n",
       "      <td>19.903226</td>\n",
       "      <td>0.580645</td>\n",
       "    </tr>\n",
       "  </tbody>\n",
       "</table>\n",
       "</div>"
      ],
      "text/plain": [
       "         date  milk  year  month  meanDayMilk  daily_diff12\n",
       "0  1962-01-01   589  1962      1    19.000000           NaN\n",
       "1  1962-02-01   561  1962      2    20.035714           NaN\n",
       "2  1962-03-01   640  1962      3    20.645161           NaN\n",
       "3  1962-04-01   656  1962      4    21.866667           NaN\n",
       "4  1962-05-01   727  1962      5    23.451613           NaN\n",
       "5  1962-06-01   697  1962      6    23.233333           NaN\n",
       "6  1962-07-01   640  1962      7    20.645161           NaN\n",
       "7  1962-08-01   599  1962      8    19.322581           NaN\n",
       "8  1962-09-01   568  1962      9    18.933333           NaN\n",
       "9  1962-10-01   577  1962     10    18.612903           NaN\n",
       "10 1962-11-01   553  1962     11    18.433333           NaN\n",
       "11 1962-12-01   582  1962     12    18.774194           NaN\n",
       "12 1963-01-01   600  1963      1    19.354839      0.354839\n",
       "13 1963-02-01   566  1963      2    20.214286      0.178571\n",
       "14 1963-03-01   653  1963      3    21.064516      0.419355\n",
       "15 1963-04-01   673  1963      4    22.433333      0.566667\n",
       "16 1963-05-01   742  1963      5    23.935484      0.483871\n",
       "17 1963-06-01   716  1963      6    23.866667      0.633333\n",
       "18 1963-07-01   660  1963      7    21.290323      0.645161\n",
       "19 1963-08-01   617  1963      8    19.903226      0.580645"
      ]
     },
     "execution_count": 63,
     "metadata": {},
     "output_type": "execute_result"
    }
   ],
   "source": [
    "cows.head(20)"
   ]
  },
  {
   "cell_type": "code",
   "execution_count": 65,
   "metadata": {
    "collapsed": false
   },
   "outputs": [
    {
     "name": "stdout",
     "output_type": "stream",
     "text": [
      "Критерий Дики-Фуллера: p=0.221277\n"
     ]
    }
   ],
   "source": [
    "print \"Критерий Дики-Фуллера: p=%f\" % sm.tsa.stattools.adfuller(cows.daily_diff12[12:])[1]"
   ]
  },
  {
   "cell_type": "code",
   "execution_count": null,
   "metadata": {
    "collapsed": true
   },
   "outputs": [],
   "source": []
  },
  {
   "cell_type": "code",
   "execution_count": 66,
   "metadata": {
    "collapsed": true
   },
   "outputs": [],
   "source": [
    "cows['daily_diff12and1'] = cows.daily_diff12 - cows.daily_diff12.shift(1)"
   ]
  },
  {
   "cell_type": "code",
   "execution_count": 68,
   "metadata": {
    "collapsed": false
   },
   "outputs": [
    {
     "data": {
      "text/html": [
       "<div>\n",
       "<table border=\"1\" class=\"dataframe\">\n",
       "  <thead>\n",
       "    <tr style=\"text-align: right;\">\n",
       "      <th></th>\n",
       "      <th>date</th>\n",
       "      <th>milk</th>\n",
       "      <th>year</th>\n",
       "      <th>month</th>\n",
       "      <th>meanDayMilk</th>\n",
       "      <th>daily_diff12</th>\n",
       "      <th>daily_diff12and1</th>\n",
       "    </tr>\n",
       "  </thead>\n",
       "  <tbody>\n",
       "    <tr>\n",
       "      <th>0</th>\n",
       "      <td>1962-01-01</td>\n",
       "      <td>589</td>\n",
       "      <td>1962</td>\n",
       "      <td>1</td>\n",
       "      <td>19.000000</td>\n",
       "      <td>NaN</td>\n",
       "      <td>NaN</td>\n",
       "    </tr>\n",
       "    <tr>\n",
       "      <th>1</th>\n",
       "      <td>1962-02-01</td>\n",
       "      <td>561</td>\n",
       "      <td>1962</td>\n",
       "      <td>2</td>\n",
       "      <td>20.035714</td>\n",
       "      <td>NaN</td>\n",
       "      <td>NaN</td>\n",
       "    </tr>\n",
       "    <tr>\n",
       "      <th>2</th>\n",
       "      <td>1962-03-01</td>\n",
       "      <td>640</td>\n",
       "      <td>1962</td>\n",
       "      <td>3</td>\n",
       "      <td>20.645161</td>\n",
       "      <td>NaN</td>\n",
       "      <td>NaN</td>\n",
       "    </tr>\n",
       "    <tr>\n",
       "      <th>3</th>\n",
       "      <td>1962-04-01</td>\n",
       "      <td>656</td>\n",
       "      <td>1962</td>\n",
       "      <td>4</td>\n",
       "      <td>21.866667</td>\n",
       "      <td>NaN</td>\n",
       "      <td>NaN</td>\n",
       "    </tr>\n",
       "    <tr>\n",
       "      <th>4</th>\n",
       "      <td>1962-05-01</td>\n",
       "      <td>727</td>\n",
       "      <td>1962</td>\n",
       "      <td>5</td>\n",
       "      <td>23.451613</td>\n",
       "      <td>NaN</td>\n",
       "      <td>NaN</td>\n",
       "    </tr>\n",
       "    <tr>\n",
       "      <th>5</th>\n",
       "      <td>1962-06-01</td>\n",
       "      <td>697</td>\n",
       "      <td>1962</td>\n",
       "      <td>6</td>\n",
       "      <td>23.233333</td>\n",
       "      <td>NaN</td>\n",
       "      <td>NaN</td>\n",
       "    </tr>\n",
       "    <tr>\n",
       "      <th>6</th>\n",
       "      <td>1962-07-01</td>\n",
       "      <td>640</td>\n",
       "      <td>1962</td>\n",
       "      <td>7</td>\n",
       "      <td>20.645161</td>\n",
       "      <td>NaN</td>\n",
       "      <td>NaN</td>\n",
       "    </tr>\n",
       "    <tr>\n",
       "      <th>7</th>\n",
       "      <td>1962-08-01</td>\n",
       "      <td>599</td>\n",
       "      <td>1962</td>\n",
       "      <td>8</td>\n",
       "      <td>19.322581</td>\n",
       "      <td>NaN</td>\n",
       "      <td>NaN</td>\n",
       "    </tr>\n",
       "    <tr>\n",
       "      <th>8</th>\n",
       "      <td>1962-09-01</td>\n",
       "      <td>568</td>\n",
       "      <td>1962</td>\n",
       "      <td>9</td>\n",
       "      <td>18.933333</td>\n",
       "      <td>NaN</td>\n",
       "      <td>NaN</td>\n",
       "    </tr>\n",
       "    <tr>\n",
       "      <th>9</th>\n",
       "      <td>1962-10-01</td>\n",
       "      <td>577</td>\n",
       "      <td>1962</td>\n",
       "      <td>10</td>\n",
       "      <td>18.612903</td>\n",
       "      <td>NaN</td>\n",
       "      <td>NaN</td>\n",
       "    </tr>\n",
       "    <tr>\n",
       "      <th>10</th>\n",
       "      <td>1962-11-01</td>\n",
       "      <td>553</td>\n",
       "      <td>1962</td>\n",
       "      <td>11</td>\n",
       "      <td>18.433333</td>\n",
       "      <td>NaN</td>\n",
       "      <td>NaN</td>\n",
       "    </tr>\n",
       "    <tr>\n",
       "      <th>11</th>\n",
       "      <td>1962-12-01</td>\n",
       "      <td>582</td>\n",
       "      <td>1962</td>\n",
       "      <td>12</td>\n",
       "      <td>18.774194</td>\n",
       "      <td>NaN</td>\n",
       "      <td>NaN</td>\n",
       "    </tr>\n",
       "    <tr>\n",
       "      <th>12</th>\n",
       "      <td>1963-01-01</td>\n",
       "      <td>600</td>\n",
       "      <td>1963</td>\n",
       "      <td>1</td>\n",
       "      <td>19.354839</td>\n",
       "      <td>0.354839</td>\n",
       "      <td>NaN</td>\n",
       "    </tr>\n",
       "    <tr>\n",
       "      <th>13</th>\n",
       "      <td>1963-02-01</td>\n",
       "      <td>566</td>\n",
       "      <td>1963</td>\n",
       "      <td>2</td>\n",
       "      <td>20.214286</td>\n",
       "      <td>0.178571</td>\n",
       "      <td>-0.176267</td>\n",
       "    </tr>\n",
       "    <tr>\n",
       "      <th>14</th>\n",
       "      <td>1963-03-01</td>\n",
       "      <td>653</td>\n",
       "      <td>1963</td>\n",
       "      <td>3</td>\n",
       "      <td>21.064516</td>\n",
       "      <td>0.419355</td>\n",
       "      <td>0.240783</td>\n",
       "    </tr>\n",
       "    <tr>\n",
       "      <th>15</th>\n",
       "      <td>1963-04-01</td>\n",
       "      <td>673</td>\n",
       "      <td>1963</td>\n",
       "      <td>4</td>\n",
       "      <td>22.433333</td>\n",
       "      <td>0.566667</td>\n",
       "      <td>0.147312</td>\n",
       "    </tr>\n",
       "    <tr>\n",
       "      <th>16</th>\n",
       "      <td>1963-05-01</td>\n",
       "      <td>742</td>\n",
       "      <td>1963</td>\n",
       "      <td>5</td>\n",
       "      <td>23.935484</td>\n",
       "      <td>0.483871</td>\n",
       "      <td>-0.082796</td>\n",
       "    </tr>\n",
       "    <tr>\n",
       "      <th>17</th>\n",
       "      <td>1963-06-01</td>\n",
       "      <td>716</td>\n",
       "      <td>1963</td>\n",
       "      <td>6</td>\n",
       "      <td>23.866667</td>\n",
       "      <td>0.633333</td>\n",
       "      <td>0.149462</td>\n",
       "    </tr>\n",
       "    <tr>\n",
       "      <th>18</th>\n",
       "      <td>1963-07-01</td>\n",
       "      <td>660</td>\n",
       "      <td>1963</td>\n",
       "      <td>7</td>\n",
       "      <td>21.290323</td>\n",
       "      <td>0.645161</td>\n",
       "      <td>0.011828</td>\n",
       "    </tr>\n",
       "    <tr>\n",
       "      <th>19</th>\n",
       "      <td>1963-08-01</td>\n",
       "      <td>617</td>\n",
       "      <td>1963</td>\n",
       "      <td>8</td>\n",
       "      <td>19.903226</td>\n",
       "      <td>0.580645</td>\n",
       "      <td>-0.064516</td>\n",
       "    </tr>\n",
       "  </tbody>\n",
       "</table>\n",
       "</div>"
      ],
      "text/plain": [
       "         date  milk  year  month  meanDayMilk  daily_diff12  daily_diff12and1\n",
       "0  1962-01-01   589  1962      1    19.000000           NaN               NaN\n",
       "1  1962-02-01   561  1962      2    20.035714           NaN               NaN\n",
       "2  1962-03-01   640  1962      3    20.645161           NaN               NaN\n",
       "3  1962-04-01   656  1962      4    21.866667           NaN               NaN\n",
       "4  1962-05-01   727  1962      5    23.451613           NaN               NaN\n",
       "5  1962-06-01   697  1962      6    23.233333           NaN               NaN\n",
       "6  1962-07-01   640  1962      7    20.645161           NaN               NaN\n",
       "7  1962-08-01   599  1962      8    19.322581           NaN               NaN\n",
       "8  1962-09-01   568  1962      9    18.933333           NaN               NaN\n",
       "9  1962-10-01   577  1962     10    18.612903           NaN               NaN\n",
       "10 1962-11-01   553  1962     11    18.433333           NaN               NaN\n",
       "11 1962-12-01   582  1962     12    18.774194           NaN               NaN\n",
       "12 1963-01-01   600  1963      1    19.354839      0.354839               NaN\n",
       "13 1963-02-01   566  1963      2    20.214286      0.178571         -0.176267\n",
       "14 1963-03-01   653  1963      3    21.064516      0.419355          0.240783\n",
       "15 1963-04-01   673  1963      4    22.433333      0.566667          0.147312\n",
       "16 1963-05-01   742  1963      5    23.935484      0.483871         -0.082796\n",
       "17 1963-06-01   716  1963      6    23.866667      0.633333          0.149462\n",
       "18 1963-07-01   660  1963      7    21.290323      0.645161          0.011828\n",
       "19 1963-08-01   617  1963      8    19.903226      0.580645         -0.064516"
      ]
     },
     "execution_count": 68,
     "metadata": {},
     "output_type": "execute_result"
    }
   ],
   "source": [
    "cows.head(20)"
   ]
  },
  {
   "cell_type": "code",
   "execution_count": 69,
   "metadata": {
    "collapsed": false
   },
   "outputs": [
    {
     "name": "stdout",
     "output_type": "stream",
     "text": [
      "Критерий Дики-Фуллера: p=0.000002\n"
     ]
    }
   ],
   "source": [
    "print \"Критерий Дики-Фуллера: p=%f\" % sm.tsa.stattools.adfuller(cows.daily_diff12and1[13:])[1]"
   ]
  },
  {
   "cell_type": "markdown",
   "metadata": {},
   "source": [
    "Ответ: Нужно провести сначала сезонное, а затем простое дифференцирование."
   ]
  },
  {
   "cell_type": "code",
   "execution_count": null,
   "metadata": {
    "collapsed": true
   },
   "outputs": [],
   "source": []
  },
  {
   "cell_type": "markdown",
   "metadata": {},
   "source": [
    "Для стационарного ряда из предыдущего вопроса (продифференцированного столько раз, сколько вы посчитали нужным) постройте график автокорреляционной и частичной автокорреляционной функций. \n",
    "Исходя из этого графика, какое начальное приближение вы предложили бы для параметра Q в модели SARIMA?\n",
    "Исходя из этого графика, какое начальное приближение вы предложили бы для параметра p в модели SARIMA?"
   ]
  },
  {
   "cell_type": "code",
   "execution_count": 74,
   "metadata": {
    "collapsed": false
   },
   "outputs": [],
   "source": [
    "import statsmodels.api as sm"
   ]
  },
  {
   "cell_type": "code",
   "execution_count": 77,
   "metadata": {
    "collapsed": false
   },
   "outputs": [
    {
     "data": {
      "image/png": "[encoded data removed]",
      "text/plain": [
       "<matplotlib.figure.Figure at 0xe27f3c8>"
      ]
     },
     "metadata": {},
     "output_type": "display_data"
    },
    {
     "data": {
      "image/png": "[encoded data removed]",
      "text/plain": [
       "<matplotlib.figure.Figure at 0x106b3e10>"
      ]
     },
     "metadata": {},
     "output_type": "display_data"
    }
   ],
   "source": [
    "plt.figure(figsize(15,8))\n",
    "ax = plt.subplot(211)\n",
    "sm.graphics.tsa.plot_acf(cows.daily_diff12and1[13:].values.squeeze(), lags=50, ax=ax)\n",
    "pylab.show()\n",
    "ax = plt.subplot(212)\n",
    "sm.graphics.tsa.plot_pacf(cows.daily_diff12and1[13:].values.squeeze(), lags=50, ax=ax)\n",
    "pylab.show()"
   ]
  },
  {
   "cell_type": "markdown",
   "metadata": {},
   "source": [
    "Ответ: Q = 1, p = 0"
   ]
  },
  {
   "cell_type": "code",
   "execution_count": null,
   "metadata": {
    "collapsed": true
   },
   "outputs": [],
   "source": []
  }
 ],
 "metadata": {
  "kernelspec": {
   "display_name": "Python [Root]",
   "language": "python",
   "name": "Python [Root]"
  },
  "language_info": {
   "codemirror_mode": {
    "name": "ipython",
    "version": 2
   },
   "file_extension": ".py",
   "mimetype": "text/x-python",
   "name": "python",
   "nbconvert_exporter": "python",
   "pygments_lexer": "ipython2",
   "version": "2.7.12"
  }
 },
 "nbformat": 4,
 "nbformat_minor": 0
}
